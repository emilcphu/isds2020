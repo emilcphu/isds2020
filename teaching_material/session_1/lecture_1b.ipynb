{
 "cells": [
  {
   "cell_type": "markdown",
   "metadata": {
    "slideshow": {
     "slide_type": "slide"
    }
   },
   "source": [
    "# Python and Social Data Science"
   ]
  },
  {
   "cell_type": "markdown",
   "metadata": {
    "slideshow": {
     "slide_type": "slide"
    }
   },
   "source": [
    "# This talk\n",
    "\n",
    "- Why social data science \n",
    "- Course overview\n",
    "- Learning to code\n",
    "- Python \n",
    "   - Why we chose it\n",
    "   - Advanced concepts\n",
    "- Power tools: git and markdown"
   ]
  },
  {
   "cell_type": "markdown",
   "metadata": {
    "slideshow": {
     "slide_type": "slide"
    }
   },
   "source": [
    "## Data science - an overview\n",
    "\n",
    "Some trends\n",
    "\n",
    "- **Data** is increasingly available\n",
    "- Improved **algorithms** and methods for computation\n",
    "- Faster and bigger **computers**\n",
    "\n",
    "Some big successes \n",
    "- Image and text recognition, e.g. recognize faces or language parsing with Google Translate/GPT-3\n",
    "- Artificial intelligence, e.g. self-driving cars, play computer games, poker, trading bots\n",
    "- Combined services, e.g. virtual assistants, recommendation systems "
   ]
  },
  {
   "cell_type": "markdown",
   "metadata": {
    "slideshow": {
     "slide_type": "slide"
    }
   },
   "source": [
    "## Past the peak?\n",
    "For a couple of years > data scientists had HIGHEST entry wages\n",
    "\n",
    "Problem > prediction based agenda is flawed. But opens up new opportunities:\n",
    "\n",
    "- Combine with theory \n",
    "- Combine with causal inference, role for econometrics and structural modelling"
   ]
  },
  {
   "cell_type": "markdown",
   "metadata": {
    "slideshow": {
     "slide_type": "slide"
    }
   },
   "source": [
    "## Social Data Science\n",
    "\n",
    "The skills and ideas of data science are spreading beyond\n",
    "\n",
    "- incorporate machine learning into\n",
    "    - statistics and causal inference\n",
    "    - economic modelling\n",
    "    \n",
    "- smart, free tools for working with\n",
    "    - small and big data on structured (tabular) data\n",
    "    - unstructured data sources from image, text and social media\n",
    "\n",
    "Take aways > tools useful for social scientists\n",
    "- enhance existing fields\n",
    "- new field emerging (new data, combination of methods)\n",
    "\n"
   ]
  },
  {
   "cell_type": "markdown",
   "metadata": {
    "slideshow": {
     "slide_type": "slide"
    }
   },
   "source": [
    "# Course overview"
   ]
  },
  {
   "cell_type": "markdown",
   "metadata": {
    "slideshow": {
     "slide_type": "slide"
    }
   },
   "source": [
    "## Module structure\n",
    "\n",
    "Most teaching modules will have the following struture\n",
    "\n",
    "- 1. Before exercise class: watch recorded lectures and reading. If you have time, you may attempt to solve exercises\n",
    "- 2. Exercise class: continue working on exercises and discuss with TA\n",
    "- 3. Live lecture. The format will very for each module but main compenent is that YOU ask questions."
   ]
  },
  {
   "cell_type": "markdown",
   "metadata": {
    "slideshow": {
     "slide_type": "slide"
    }
   },
   "source": [
    "## The wheel of data science\n",
    "<br>\n",
    "<br>\n",
    "<center><img src='https://raw.githubusercontent.com/hadley/r4ds/master/diagrams/data-science.png' alt=\"Drawing\" style=\"width: 700px;\"/></center>\n"
   ]
  },
  {
   "cell_type": "markdown",
   "metadata": {
    "slideshow": {
     "slide_type": "slide"
    }
   },
   "source": [
    "## Learning outcomes after completing Intro SDS \n",
    "\n",
    "- Tidy / transform: data structuring and text (sessions 1-5,15)\n",
    "- Import: scraping and data IO (sessions 2, 6-8)\n",
    "- Visualize: plotting (session 3)\n",
    "- Model: fundamentals of machine learning, application to text (session 11-15)\n",
    "- Communicate: git and markdown (covered briefly at end of talk)"
   ]
  },
  {
   "cell_type": "markdown",
   "metadata": {
    "slideshow": {
     "slide_type": "slide"
    }
   },
   "source": [
    "## What we don't teach you now\n",
    "\n",
    "Many more courses that built on this\n",
    "- Statistics: Econometrics and Machine Learning - overlaps\n",
    "- More about data - modelling and processing:\n",
    "    - Text, networks/relational, spatial\n",
    "- Non-linear ML models:\n",
    "    - Tree based and kernel \n",
    "    - Neural networks\n",
    "- ML for dynamic decisions: reinforcment learning\n",
    "- All about privacy"
   ]
  },
  {
   "cell_type": "markdown",
   "metadata": {
    "slideshow": {
     "slide_type": "slide"
    }
   },
   "source": [
    "# Learning how to code"
   ]
  },
  {
   "cell_type": "markdown",
   "metadata": {
    "slideshow": {
     "slide_type": "slide"
    }
   },
   "source": [
    "## Not a free lunch\n",
    "\n",
    "This course.. ain't easy.."
   ]
  },
  {
   "cell_type": "markdown",
   "metadata": {
    "slideshow": {
     "slide_type": "fragment"
    }
   },
   "source": [
    "Learning without supervision: \n",
    "- Data structuring as experimentation\n",
    "- Struggle with simple stuff\n",
    "<center><img src='https://media.giphy.com/media/h36vh423PiV9K/giphy.gif' alt=\"Drawing\" style=\"width: 400px;\"/></center>\n"
   ]
  },
  {
   "cell_type": "markdown",
   "metadata": {
    "slideshow": {
     "slide_type": "slide"
    }
   },
   "source": [
    "## Some encouragement"
   ]
  },
  {
   "cell_type": "markdown",
   "metadata": {
    "slideshow": {
     "slide_type": "fragment"
    }
   },
   "source": [
    "#### Hadley Wickham\n",
    "\n",
    "> The bad news is that when ever you learn a new skill you’re going to suck. It’s going to be frustrating. The good news is that is typical and happens to everyone and it is only temporary. You can’t go from knowing nothing to becoming an expert without going through a period of great frustration and great suckiness.\n"
   ]
  },
  {
   "cell_type": "markdown",
   "metadata": {
    "slideshow": {
     "slide_type": "fragment"
    }
   },
   "source": [
    "#### Kosuke Imai\n",
    "\n",
    "> One can learn data analysis only by doing, not by reading."
   ]
  },
  {
   "cell_type": "markdown",
   "metadata": {
    "slideshow": {
     "slide_type": "slide"
    }
   },
   "source": [
    "## Light at the end.."
   ]
  },
  {
   "cell_type": "markdown",
   "metadata": {
    "slideshow": {
     "slide_type": "fragment"
    }
   },
   "source": [
    "Why would you go through this pain? You choose one of two paths."
   ]
  },
  {
   "cell_type": "markdown",
   "metadata": {
    "slideshow": {
     "slide_type": "fragment"
    }
   },
   "source": [
    "i. You move on, you forget some or most of the material."
   ]
  },
  {
   "cell_type": "markdown",
   "metadata": {
    "slideshow": {
     "slide_type": "fragment"
    }
   },
   "source": [
    "ii. You are lit and your life has changed. \n",
    "- You may return to become a better sociologist, anthropologit, economist etc.\n",
    "- Or, you may continue along the new track of data science.\n",
    "- In any case, you keep learning and expanding your programming skills."
   ]
  },
  {
   "cell_type": "markdown",
   "metadata": {
    "slideshow": {
     "slide_type": "slide"
    }
   },
   "source": [
    "## Advice for coding\n",
    "\n",
    "- Be careful: Think before you code - what you are trying to make it do?\n",
    "\n",
    "- Be lazy: resuse code and write reusable code (functions)\n",
    "\n",
    "- Make understandable: think about audience\n",
    "    1. Future you? May not recall this at all.    \n",
    "    1. Group members or world? May need some background explanation/documentation.\n",
    "    \n"
   ]
  },
  {
   "cell_type": "markdown",
   "metadata": {
    "slideshow": {
     "slide_type": "slide"
    }
   },
   "source": [
    "## Advice for learning to code\n",
    "\n",
    "- Maintain healthy curiousity - how could we do things better?\n",
    "- Practice and try as much as possible\n",
    "- Type the code in yourself - then you see what is going on.\n"
   ]
  },
  {
   "cell_type": "markdown",
   "metadata": {
    "slideshow": {
     "slide_type": "slide"
    }
   },
   "source": [
    "# Python vs. R (vs. Julia)"
   ]
  },
  {
   "cell_type": "markdown",
   "metadata": {
    "slideshow": {
     "slide_type": "slide"
    }
   },
   "source": [
    "## Tradeoff?\n",
    "\n",
    "- Each language has their own advantages and similarities (my opinion)\n",
    "\n",
    "|                     | Python | R | Julia |\n",
    "|---------------------|--------|---|---|\n",
    "| Data structuring    | X      | X | |\n",
    "| Plotting            | X      | X | |\n",
    "| Machine learning    | X      |   | |\n",
    "| Statistics          |        | X | |\n",
    "| General programming and modelling | X      |   | (X)|\n",
    "| Ease of learning    | X      |   | |\n"
   ]
  },
  {
   "cell_type": "markdown",
   "metadata": {
    "slideshow": {
     "slide_type": "fragment"
    }
   },
   "source": [
    "- Tools are increasingly integrated\n",
    "    - Jupyter a shared framework for data science \n",
    "    - New software allows direct execution side-by-side: use R within python (vice versa)\n",
    "    - New tools becoming available across languages, e.g. data processing engine (arrow)\n",
    "    \n"
   ]
  },
  {
   "cell_type": "markdown",
   "metadata": {
    "slideshow": {
     "slide_type": "fragment"
    }
   },
   "source": [
    "Advice: don't worry. It's likely you need to learn more than one language."
   ]
  },
  {
   "cell_type": "markdown",
   "metadata": {
    "slideshow": {
     "slide_type": "slide"
    }
   },
   "source": [
    "# Python - advanced concepts\n"
   ]
  },
  {
   "cell_type": "markdown",
   "metadata": {
    "slideshow": {
     "slide_type": "slide"
    }
   },
   "source": [
    "## Making code reusable\n"
   ]
  },
  {
   "cell_type": "markdown",
   "metadata": {
    "slideshow": {
     "slide_type": "slide"
    }
   },
   "source": [
    "### Functions\n",
    "Be careful of input/output and objects created"
   ]
  },
  {
   "cell_type": "markdown",
   "metadata": {
    "slideshow": {
     "slide_type": "fragment"
    }
   },
   "source": [
    "- Globals: objects defined outside function\n",
    "    - Note: These are available both locally and globally (although, they can be overwritten)\n",
    "- Locals: objects that are created within a sub-level. \n",
    "    - Example: objects defined inside a function\n",
    "    - Cannot use outside, unless we use `return`"
   ]
  },
  {
   "cell_type": "markdown",
   "metadata": {
    "slideshow": {
     "slide_type": "slide"
    }
   },
   "source": [
    "### Check-list for functions\n",
    "Some key questions\n",
    "- Should I write a function? (yes if you are repeating some process)\n",
    "- If yes:\n",
    "    - What do you intend the function to output? Is the correct output returned?\n",
    "    - Do you use locals where possbible? \n",
    "    - Are globals assigned before you define the function in notebook/script?\n",
    "        - (if not your function may fail! reason: some used globals are not defined)\n"
   ]
  },
  {
   "cell_type": "markdown",
   "metadata": {
    "slideshow": {
     "slide_type": "slide"
    }
   },
   "source": [
    "### Classes \n",
    "Where do objects come from?"
   ]
  },
  {
   "cell_type": "markdown",
   "metadata": {},
   "source": [
    "- From a collection of pre-defined attributes and methods, this a called `class`.\n",
    "- We can make our own. It is complex, but powerful.\n",
    "- Examples of classes/objects we will see: \n",
    "    - dataframes, scraping tools, machine learning model etc.\n",
    "    - (everything is an object)"
   ]
  },
  {
   "cell_type": "markdown",
   "metadata": {
    "slideshow": {
     "slide_type": "slide"
    }
   },
   "source": [
    "## Copy vs. view\n",
    "\n",
    "Important, when writing code `A = B`, then `A` is only a reference to `B`!\n",
    "\n",
    "- In other words: `A` is a **view** of `B`\n",
    "- Implication \n",
    "    - if `A` is mutable, e.g. list, dataframe: changes to `B` shows up in `A` and vice versa \n",
    "\n",
    "We can break this dependency by explicitly making **copy**. \n",
    "- For instance, in pandas use `A = B.copy()` method\n",
    "\n"
   ]
  },
  {
   "cell_type": "markdown",
   "metadata": {
    "slideshow": {
     "slide_type": "slide"
    }
   },
   "source": [
    "## Coding that is fast"
   ]
  },
  {
   "cell_type": "markdown",
   "metadata": {
    "slideshow": {
     "slide_type": "slide"
    }
   },
   "source": [
    "### One-liners using comprehensions\n",
    "\n",
    "A very compact way of writing code: *comprehension*. Example of list comprehension:\n",
    "```python\n",
    "new_list = [my_proc(a) for a in my_list] \n",
    "```\n",
    "\n",
    "The new thing is that we define loop inside the list! \n"
   ]
  },
  {
   "cell_type": "markdown",
   "metadata": {
    "slideshow": {
     "slide_type": "slide"
    }
   },
   "source": [
    "### The need for speed\n",
    "Python is elegant and simple\n",
    "\n",
    "However, Python is NOT built for speed. \n",
    "\n",
    "We can compensate by using smart packages that have fast algorithms, e.g. numpy and pandas\n"
   ]
  },
  {
   "cell_type": "markdown",
   "metadata": {
    "slideshow": {
     "slide_type": "slide"
    }
   },
   "source": [
    "### Vectorization\n",
    "\n",
    "An alternative is to write our code in terms of numpy arrays.\n",
    "\n",
    "In example below we get around 50-100 times speed-up!"
   ]
  },
  {
   "cell_type": "code",
   "execution_count": 1,
   "metadata": {},
   "outputs": [
    {
     "name": "stdout",
     "output_type": "stream",
     "text": [
      "9.24 ms ± 420 µs per loop (mean ± std. dev. of 7 runs, 100 loops each)\n"
     ]
    }
   ],
   "source": [
    "%%timeit\n",
    "[i+3 for i in range(10**5)]"
   ]
  },
  {
   "cell_type": "code",
   "execution_count": 2,
   "metadata": {},
   "outputs": [],
   "source": [
    "import numpy as np"
   ]
  },
  {
   "cell_type": "code",
   "execution_count": 3,
   "metadata": {},
   "outputs": [
    {
     "name": "stdout",
     "output_type": "stream",
     "text": [
      "180 µs ± 36.1 µs per loop (mean ± std. dev. of 7 runs, 1000 loops each)\n"
     ]
    }
   ],
   "source": [
    "%%timeit\n",
    "np.arange(10**5)+3"
   ]
  },
  {
   "cell_type": "markdown",
   "metadata": {
    "slideshow": {
     "slide_type": "slide"
    }
   },
   "source": [
    "### Take away on speed\n",
    "\n",
    "Use pandas or numpy - they are optimized speed! \n",
    "\n",
    "Why are pandas and numpy fast? \n",
    "\n",
    "- Because they are written in fast, low-level code with optimized algorithms! \n",
    "\n",
    "Why are we not learning low level? \n",
    "- Requires too much space for simple operations - not efficient!\n",
    "- Too steep learning curve (not like Python!!)"
   ]
  },
  {
   "cell_type": "markdown",
   "metadata": {
    "slideshow": {
     "slide_type": "slide"
    }
   },
   "source": [
    "# Power tools: git and markdown"
   ]
  },
  {
   "cell_type": "markdown",
   "metadata": {
    "slideshow": {
     "slide_type": "slide"
    }
   },
   "source": [
    "## Git, a non-technical overview\n",
    "\n",
    "Git is a tool for command line:"
   ]
  },
  {
   "cell_type": "markdown",
   "metadata": {
    "slideshow": {
     "slide_type": "fragment"
    }
   },
   "source": [
    "1) \"Track changes\" system for files\n",
    "- A log of all changes is kept - from nothing to current version\n",
    "- All changes are explicitly declared by you, may annotate\n",
    "  - You can try out things, but only save meaningful changes!"
   ]
  },
  {
   "cell_type": "markdown",
   "metadata": {
    "slideshow": {
     "slide_type": "fragment"
    }
   },
   "source": [
    "2) Share the files you want, how you want \n",
    "- A git folder, called **repository**, can be copied by others\n",
    "- Many sites allow public and private repositories - you decide access\n",
    "    \n"
   ]
  },
  {
   "cell_type": "markdown",
   "metadata": {
    "slideshow": {
     "slide_type": "fragment"
    }
   },
   "source": [
    "Not covered explicitly in course. Learn to use point-and-click version for fetching files."
   ]
  },
  {
   "cell_type": "markdown",
   "metadata": {
    "slideshow": {
     "slide_type": "slide"
    }
   },
   "source": [
    "## Markdown\n",
    "\n",
    "[LaTeX](https://en.wikipedia.org/wiki/LaTeX) can create beautiful scientific documents.\n",
    "\n",
    "Problem - background code is heavy to read. Is there alternative?"
   ]
  },
  {
   "cell_type": "markdown",
   "metadata": {
    "slideshow": {
     "slide_type": "fragment"
    }
   },
   "source": [
    "Yes: markdown. Like python, keeps code simple. Example:\n",
    "        \n",
    "Making italic text:\n",
    "- markdown: `*Some text*`\n",
    "- LaTeX: `\\textit{Some text}`\n",
    "\n",
    "How do you learn it? Open our notebook cells or see tutorial in reading lsit"
   ]
  },
  {
   "cell_type": "markdown",
   "metadata": {
    "slideshow": {
     "slide_type": "slide"
    }
   },
   "source": [
    "# Outro\n",
    "\n",
    "- Coding is tough, but worth learning\n",
    "    - Also for social scientists\n",
    "- You can dig deeper into\n",
    "   - Advanced python\n",
    "   - Git for saving and sharing code\n",
    "   \n",
    "- Next lecture this afternoon: Strings, queries and APIs"
   ]
  }
 ],
 "metadata": {
  "celltoolbar": "Slideshow",
  "kernelspec": {
   "display_name": "Python 3",
   "language": "python",
   "name": "python3"
  },
  "language_info": {
   "codemirror_mode": {
    "name": "ipython",
    "version": 3
   },
   "file_extension": ".py",
   "mimetype": "text/x-python",
   "name": "python",
   "nbconvert_exporter": "python",
   "pygments_lexer": "ipython3",
   "version": "3.7.4"
  }
 },
 "nbformat": 4,
 "nbformat_minor": 4
}
